{
 "cells": [
  {
   "cell_type": "code",
   "execution_count": 1,
   "id": "e936ba76-ec0f-487b-b691-07c33773fdab",
   "metadata": {},
   "outputs": [],
   "source": [
    "import numpy as np\n",
    "import matplotlib.pyplot as plt\n",
    "import pandas as pd"
   ]
  },
  {
   "cell_type": "code",
   "execution_count": 8,
   "id": "df999b67-0a0a-4faa-a0cb-311c091496c8",
   "metadata": {},
   "outputs": [],
   "source": [
    "unfooddb=pd.read_csv('/Users/ben/Desktop/FoodBalanceSheets_E_All_Data.csv')"
   ]
  },
  {
   "cell_type": "code",
   "execution_count": 9,
   "id": "d7774b04-1239-49ea-8375-73b98d969727",
   "metadata": {},
   "outputs": [
    {
     "name": "stdout",
     "output_type": "stream",
     "text": [
      "<class 'pandas.core.frame.DataFrame'>\n",
      "RangeIndex: 292839 entries, 0 to 292838\n",
      "Data columns (total 17 columns):\n",
      " #   Column        Non-Null Count   Dtype  \n",
      "---  ------        --------------   -----  \n",
      " 0   Area Code     292839 non-null  int64  \n",
      " 1   Area          292839 non-null  object \n",
      " 2   Item Code     292839 non-null  int64  \n",
      " 3   Item          292839 non-null  object \n",
      " 4   Element Code  292839 non-null  int64  \n",
      " 5   Element       292839 non-null  object \n",
      " 6   Unit          292839 non-null  object \n",
      " 7   Y2014         287605 non-null  float64\n",
      " 8   Y2014F        287605 non-null  object \n",
      " 9   Y2015         287694 non-null  float64\n",
      " 10  Y2015F        287694 non-null  object \n",
      " 11  Y2016         287836 non-null  float64\n",
      " 12  Y2016F        287836 non-null  object \n",
      " 13  Y2017         288316 non-null  float64\n",
      " 14  Y2017F        288316 non-null  object \n",
      " 15  Y2018         287940 non-null  float64\n",
      " 16  Y2018F        287940 non-null  object \n",
      "dtypes: float64(5), int64(3), object(9)\n",
      "memory usage: 38.0+ MB\n",
      "None\n"
     ]
    }
   ],
   "source": [
    "print(unfooddb.info())"
   ]
  },
  {
   "cell_type": "code",
   "execution_count": 52,
   "id": "7aa0e60d-5e48-443f-96d2-1bb06f775510",
   "metadata": {},
   "outputs": [
    {
     "name": "stdout",
     "output_type": "stream",
     "text": [
      "['Afghanistan' 'Albania' 'Algeria' 'Angola' 'Antigua and Barbuda'\n",
      " 'Argentina' 'Armenia' 'Australia' 'Austria' 'Azerbaijan' 'Bahamas'\n",
      " 'Bangladesh' 'Barbados' 'Belarus' 'Belgium' 'Belize' 'Benin'\n",
      " 'Bolivia (Plurinational State of)' 'Bosnia and Herzegovina' 'Botswana'\n",
      " 'Brazil' 'Bulgaria' 'Burkina Faso' 'Cabo Verde' 'Cambodia' 'Cameroon'\n",
      " 'Canada' 'Central African Republic' 'Chad' 'Chile' 'China'\n",
      " 'China, Hong Kong SAR' 'China, Macao SAR' 'China, mainland'\n",
      " 'China, Taiwan Province of' 'Colombia' 'Comoros' 'Congo' 'Costa Rica'\n",
      " \"C�te d'Ivoire\" 'Croatia' 'Cuba' 'Cyprus' 'Czechia'\n",
      " \"Democratic People's Republic of Korea\" 'Denmark' 'Djibouti' 'Dominica'\n",
      " 'Dominican Republic' 'Ecuador' 'Egypt' 'El Salvador' 'Estonia' 'Eswatini'\n",
      " 'Ethiopia' 'Fiji' 'Finland' 'France' 'French Polynesia' 'Gabon' 'Gambia'\n",
      " 'Georgia' 'Germany' 'Ghana' 'Greece' 'Grenada' 'Guatemala' 'Guinea'\n",
      " 'Guinea-Bissau' 'Guyana' 'Haiti' 'Honduras' 'Hungary' 'Iceland' 'India'\n",
      " 'Indonesia' 'Iran (Islamic Republic of)' 'Iraq' 'Ireland' 'Israel'\n",
      " 'Italy' 'Jamaica' 'Japan' 'Jordan' 'Kazakhstan' 'Kenya' 'Kiribati'\n",
      " 'Kuwait' 'Kyrgyzstan' \"Lao People's Democratic Republic\" 'Latvia'\n",
      " 'Lebanon' 'Lesotho' 'Liberia' 'Lithuania' 'Luxembourg' 'Madagascar'\n",
      " 'Malawi' 'Malaysia' 'Maldives' 'Mali' 'Malta' 'Mauritania' 'Mauritius'\n",
      " 'Mexico' 'Mongolia' 'Montenegro' 'Morocco' 'Mozambique' 'Myanmar'\n",
      " 'Namibia' 'Nepal' 'Netherlands' 'New Caledonia' 'New Zealand' 'Nicaragua'\n",
      " 'Niger' 'Nigeria' 'North Macedonia' 'Norway' 'Oman' 'Pakistan' 'Panama'\n",
      " 'Papua New Guinea' 'Paraguay' 'Peru' 'Philippines' 'Poland' 'Portugal'\n",
      " 'Republic of Korea' 'Republic of Moldova' 'Romania' 'Russian Federation'\n",
      " 'Rwanda' 'Saint Kitts and Nevis' 'Saint Lucia'\n",
      " 'Saint Vincent and the Grenadines' 'Samoa' 'Sao Tome and Principe'\n",
      " 'Saudi Arabia' 'Senegal' 'Serbia' 'Seychelles' 'Sierra Leone' 'Slovakia'\n",
      " 'Slovenia' 'Solomon Islands' 'South Africa' 'Spain' 'Sri Lanka' 'Sudan'\n",
      " 'Suriname' 'Sweden' 'Switzerland' 'Tajikistan' 'Thailand' 'Timor-Leste'\n",
      " 'Togo' 'Trinidad and Tobago' 'Tunisia' 'Turkey' 'Turkmenistan' 'Uganda'\n",
      " 'Ukraine' 'United Arab Emirates'\n",
      " 'United Kingdom of Great Britain and Northern Ireland'\n",
      " 'United Republic of Tanzania' 'United States of America' 'Uruguay'\n",
      " 'Uzbekistan' 'Vanuatu' 'Venezuela (Bolivarian Republic of)' 'Viet Nam'\n",
      " 'Yemen' 'Zambia' 'Zimbabwe' 'World' 'Africa' 'Eastern Africa'\n",
      " 'Middle Africa' 'Northern Africa' 'Southern Africa' 'Western Africa'\n",
      " 'Americas' 'Northern America' 'Central America' 'Caribbean'\n",
      " 'South America' 'Asia' 'Central Asia' 'Eastern Asia' 'Southern Asia'\n",
      " 'South-eastern Asia' 'Western Asia' 'Europe' 'Eastern Europe'\n",
      " 'Northern Europe' 'Southern Europe' 'Western Europe' 'Oceania'\n",
      " 'Australia and New Zealand' 'Melanesia' 'Micronesia' 'Polynesia'\n",
      " 'European Union (28)' 'European Union (27)' 'Least Developed Countries'\n",
      " 'Land Locked Developing Countries' 'Small Island Developing States'\n",
      " 'Low Income Food Deficit Countries'\n",
      " 'Net Food Importing Developing Countries']\n"
     ]
    }
   ],
   "source": [
    "countries_areas=unfooddb['Area'].unique()\n",
    "print(countries_areas)"
   ]
  },
  {
   "cell_type": "code",
   "execution_count": 55,
   "id": "c4662f72-57a8-42db-ba7d-99223f55d735",
   "metadata": {},
   "outputs": [],
   "source": [
    "unfooddb_countries=unfooddb['Area'].loc['Afghanistan':'Zimbabwe']"
   ]
  },
  {
   "cell_type": "code",
   "execution_count": 56,
   "id": "2e562d93-2165-426d-b7b5-dff12c415483",
   "metadata": {},
   "outputs": [
    {
     "name": "stdout",
     "output_type": "stream",
     "text": [
      "Series([], Name: Area, dtype: object)\n"
     ]
    }
   ],
   "source": [
    "print(unfooddb_countries.head())"
   ]
  },
  {
   "cell_type": "code",
   "execution_count": null,
   "id": "ecf9fecd-8689-4cd5-b38c-7c64741e3957",
   "metadata": {},
   "outputs": [],
   "source": []
  }
 ],
 "metadata": {
  "kernelspec": {
   "display_name": "Python 3",
   "language": "python",
   "name": "python3"
  },
  "language_info": {
   "codemirror_mode": {
    "name": "ipython",
    "version": 3
   },
   "file_extension": ".py",
   "mimetype": "text/x-python",
   "name": "python",
   "nbconvert_exporter": "python",
   "pygments_lexer": "ipython3",
   "version": "3.8.8"
  }
 },
 "nbformat": 4,
 "nbformat_minor": 5
}
